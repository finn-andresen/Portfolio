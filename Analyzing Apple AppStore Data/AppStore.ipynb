{
 "cells": [
  {
   "cell_type": "markdown",
   "metadata": {},
   "source": [
    "# Analyzing Apple AppStore Data (with SQL and Python)"
   ]
  },
  {
   "cell_type": "markdown",
   "metadata": {},
   "source": [
    "## Dataset\n",
    "\n",
    "The dataset contains data about a selection of apps in the Apple AppStore from July 2017. It is available on [Kaggle](https://www.kaggle.com/datasets/ramamet4/app-store-apple-data-set-10k-apps) and includes two CSV files:\n",
    "- AppleStore.csv\n",
    "- AppleStore_description.csv"
   ]
  },
  {
   "cell_type": "markdown",
   "metadata": {},
   "source": [
    "## Goal\n",
    "A software company or an independent developer would like to develop an app for the Apple AppStore. For this purpose, it should be analyzed what appears to be the most promising for an app. The following questions should therefore be answered as part of the analysis:\n",
    "- Which genre should the app belong to?\n",
    "- Should the app be free or paid? If paid, at what price?\n",
    "- How many languages should the app support?\n",
    "- Should the app have a rather short or long description?"
   ]
  },
  {
   "cell_type": "markdown",
   "metadata": {},
   "source": [
    "## Database Setup"
   ]
  },
  {
   "cell_type": "code",
   "execution_count": 1,
   "metadata": {},
   "outputs": [],
   "source": [
    "# Import necessary libraries\n",
    "import pandas as pd\n",
    "import numpy as np\n",
    "import sqlite3\n",
    "import matplotlib.pyplot as plt\n",
    "import seaborn as sns"
   ]
  },
  {
   "cell_type": "code",
   "execution_count": 2,
   "metadata": {},
   "outputs": [
    {
     "data": {
      "text/html": [
       "<div>\n",
       "<style scoped>\n",
       "    .dataframe tbody tr th:only-of-type {\n",
       "        vertical-align: middle;\n",
       "    }\n",
       "\n",
       "    .dataframe tbody tr th {\n",
       "        vertical-align: top;\n",
       "    }\n",
       "\n",
       "    .dataframe thead th {\n",
       "        text-align: right;\n",
       "    }\n",
       "</style>\n",
       "<table border=\"1\" class=\"dataframe\">\n",
       "  <thead>\n",
       "    <tr style=\"text-align: right;\">\n",
       "      <th></th>\n",
       "      <th>id</th>\n",
       "      <th>track_name</th>\n",
       "      <th>size_bytes</th>\n",
       "      <th>currency</th>\n",
       "      <th>price</th>\n",
       "      <th>rating_count_tot</th>\n",
       "      <th>rating_count_ver</th>\n",
       "      <th>user_rating</th>\n",
       "      <th>user_rating_ver</th>\n",
       "      <th>ver</th>\n",
       "      <th>cont_rating</th>\n",
       "      <th>prime_genre</th>\n",
       "      <th>sup_devices.num</th>\n",
       "      <th>ipadSc_urls.num</th>\n",
       "      <th>lang.num</th>\n",
       "      <th>vpp_lic</th>\n",
       "    </tr>\n",
       "  </thead>\n",
       "  <tbody>\n",
       "    <tr>\n",
       "      <th>0</th>\n",
       "      <td>281656475</td>\n",
       "      <td>PAC-MAN Premium</td>\n",
       "      <td>100788224</td>\n",
       "      <td>USD</td>\n",
       "      <td>3.99</td>\n",
       "      <td>21292</td>\n",
       "      <td>26</td>\n",
       "      <td>4.0</td>\n",
       "      <td>4.5</td>\n",
       "      <td>6.3.5</td>\n",
       "      <td>4+</td>\n",
       "      <td>Games</td>\n",
       "      <td>38</td>\n",
       "      <td>5</td>\n",
       "      <td>10</td>\n",
       "      <td>1</td>\n",
       "    </tr>\n",
       "    <tr>\n",
       "      <th>1</th>\n",
       "      <td>281796108</td>\n",
       "      <td>Evernote - stay organized</td>\n",
       "      <td>158578688</td>\n",
       "      <td>USD</td>\n",
       "      <td>0.00</td>\n",
       "      <td>161065</td>\n",
       "      <td>26</td>\n",
       "      <td>4.0</td>\n",
       "      <td>3.5</td>\n",
       "      <td>8.2.2</td>\n",
       "      <td>4+</td>\n",
       "      <td>Productivity</td>\n",
       "      <td>37</td>\n",
       "      <td>5</td>\n",
       "      <td>23</td>\n",
       "      <td>1</td>\n",
       "    </tr>\n",
       "    <tr>\n",
       "      <th>2</th>\n",
       "      <td>281940292</td>\n",
       "      <td>WeatherBug - Local Weather, Radar, Maps, Alerts</td>\n",
       "      <td>100524032</td>\n",
       "      <td>USD</td>\n",
       "      <td>0.00</td>\n",
       "      <td>188583</td>\n",
       "      <td>2822</td>\n",
       "      <td>3.5</td>\n",
       "      <td>4.5</td>\n",
       "      <td>5.0.0</td>\n",
       "      <td>4+</td>\n",
       "      <td>Weather</td>\n",
       "      <td>37</td>\n",
       "      <td>5</td>\n",
       "      <td>3</td>\n",
       "      <td>1</td>\n",
       "    </tr>\n",
       "    <tr>\n",
       "      <th>3</th>\n",
       "      <td>282614216</td>\n",
       "      <td>eBay: Best App to Buy, Sell, Save! Online Shop...</td>\n",
       "      <td>128512000</td>\n",
       "      <td>USD</td>\n",
       "      <td>0.00</td>\n",
       "      <td>262241</td>\n",
       "      <td>649</td>\n",
       "      <td>4.0</td>\n",
       "      <td>4.5</td>\n",
       "      <td>5.10.0</td>\n",
       "      <td>12+</td>\n",
       "      <td>Shopping</td>\n",
       "      <td>37</td>\n",
       "      <td>5</td>\n",
       "      <td>9</td>\n",
       "      <td>1</td>\n",
       "    </tr>\n",
       "    <tr>\n",
       "      <th>4</th>\n",
       "      <td>282935706</td>\n",
       "      <td>Bible</td>\n",
       "      <td>92774400</td>\n",
       "      <td>USD</td>\n",
       "      <td>0.00</td>\n",
       "      <td>985920</td>\n",
       "      <td>5320</td>\n",
       "      <td>4.5</td>\n",
       "      <td>5.0</td>\n",
       "      <td>7.5.1</td>\n",
       "      <td>4+</td>\n",
       "      <td>Reference</td>\n",
       "      <td>37</td>\n",
       "      <td>5</td>\n",
       "      <td>45</td>\n",
       "      <td>1</td>\n",
       "    </tr>\n",
       "  </tbody>\n",
       "</table>\n",
       "</div>"
      ],
      "text/plain": [
       "          id                                         track_name  size_bytes  \\\n",
       "0  281656475                                    PAC-MAN Premium   100788224   \n",
       "1  281796108                          Evernote - stay organized   158578688   \n",
       "2  281940292    WeatherBug - Local Weather, Radar, Maps, Alerts   100524032   \n",
       "3  282614216  eBay: Best App to Buy, Sell, Save! Online Shop...   128512000   \n",
       "4  282935706                                              Bible    92774400   \n",
       "\n",
       "  currency  price  rating_count_tot  rating_count_ver  user_rating  \\\n",
       "0      USD   3.99             21292                26          4.0   \n",
       "1      USD   0.00            161065                26          4.0   \n",
       "2      USD   0.00            188583              2822          3.5   \n",
       "3      USD   0.00            262241               649          4.0   \n",
       "4      USD   0.00            985920              5320          4.5   \n",
       "\n",
       "   user_rating_ver     ver cont_rating   prime_genre  sup_devices.num  \\\n",
       "0              4.5   6.3.5          4+         Games               38   \n",
       "1              3.5   8.2.2          4+  Productivity               37   \n",
       "2              4.5   5.0.0          4+       Weather               37   \n",
       "3              4.5  5.10.0         12+      Shopping               37   \n",
       "4              5.0   7.5.1          4+     Reference               37   \n",
       "\n",
       "   ipadSc_urls.num  lang.num  vpp_lic  \n",
       "0                5        10        1  \n",
       "1                5        23        1  \n",
       "2                5         3        1  \n",
       "3                5         9        1  \n",
       "4                5        45        1  "
      ]
     },
     "execution_count": 2,
     "metadata": {},
     "output_type": "execute_result"
    }
   ],
   "source": [
    "# Read CSVs to pandas dataframes\n",
    "df_apps = pd.read_csv(\"AppleStore.csv\")\n",
    "df_apps = df_apps.iloc[:, 1:]\n",
    "df_apps.head()"
   ]
  },
  {
   "cell_type": "code",
   "execution_count": 3,
   "metadata": {},
   "outputs": [
    {
     "data": {
      "text/html": [
       "<div>\n",
       "<style scoped>\n",
       "    .dataframe tbody tr th:only-of-type {\n",
       "        vertical-align: middle;\n",
       "    }\n",
       "\n",
       "    .dataframe tbody tr th {\n",
       "        vertical-align: top;\n",
       "    }\n",
       "\n",
       "    .dataframe thead th {\n",
       "        text-align: right;\n",
       "    }\n",
       "</style>\n",
       "<table border=\"1\" class=\"dataframe\">\n",
       "  <thead>\n",
       "    <tr style=\"text-align: right;\">\n",
       "      <th></th>\n",
       "      <th>id</th>\n",
       "      <th>track_name</th>\n",
       "      <th>size_bytes</th>\n",
       "      <th>app_desc</th>\n",
       "    </tr>\n",
       "  </thead>\n",
       "  <tbody>\n",
       "    <tr>\n",
       "      <th>0</th>\n",
       "      <td>281656475</td>\n",
       "      <td>PAC-MAN Premium</td>\n",
       "      <td>100788224</td>\n",
       "      <td>SAVE 20%, now only $3.99 for a limited time!\\n...</td>\n",
       "    </tr>\n",
       "    <tr>\n",
       "      <th>1</th>\n",
       "      <td>281796108</td>\n",
       "      <td>Evernote - stay organized</td>\n",
       "      <td>158578688</td>\n",
       "      <td>Let Evernote change the way you organize your ...</td>\n",
       "    </tr>\n",
       "    <tr>\n",
       "      <th>2</th>\n",
       "      <td>281940292</td>\n",
       "      <td>WeatherBug - Local Weather, Radar, Maps, Alerts</td>\n",
       "      <td>100524032</td>\n",
       "      <td>Download the most popular free weather app pow...</td>\n",
       "    </tr>\n",
       "    <tr>\n",
       "      <th>3</th>\n",
       "      <td>282614216</td>\n",
       "      <td>eBay: Best App to Buy, Sell, Save! Online Shop...</td>\n",
       "      <td>128512000</td>\n",
       "      <td>The eBay app is the best way to find anything ...</td>\n",
       "    </tr>\n",
       "    <tr>\n",
       "      <th>4</th>\n",
       "      <td>282935706</td>\n",
       "      <td>Bible</td>\n",
       "      <td>92774400</td>\n",
       "      <td>On more than 250 million devices around the wo...</td>\n",
       "    </tr>\n",
       "  </tbody>\n",
       "</table>\n",
       "</div>"
      ],
      "text/plain": [
       "          id                                         track_name  size_bytes  \\\n",
       "0  281656475                                    PAC-MAN Premium   100788224   \n",
       "1  281796108                          Evernote - stay organized   158578688   \n",
       "2  281940292    WeatherBug - Local Weather, Radar, Maps, Alerts   100524032   \n",
       "3  282614216  eBay: Best App to Buy, Sell, Save! Online Shop...   128512000   \n",
       "4  282935706                                              Bible    92774400   \n",
       "\n",
       "                                            app_desc  \n",
       "0  SAVE 20%, now only $3.99 for a limited time!\\n...  \n",
       "1  Let Evernote change the way you organize your ...  \n",
       "2  Download the most popular free weather app pow...  \n",
       "3  The eBay app is the best way to find anything ...  \n",
       "4  On more than 250 million devices around the wo...  "
      ]
     },
     "execution_count": 3,
     "metadata": {},
     "output_type": "execute_result"
    }
   ],
   "source": [
    "df_apps_desc = pd.read_csv(\"AppleStore_description.csv\")\n",
    "df_apps_desc.head()"
   ]
  },
  {
   "cell_type": "code",
   "execution_count": 4,
   "metadata": {},
   "outputs": [],
   "source": [
    "# Establish connector for SQLite database\n",
    "con = sqlite3.connect(\"apps.db\")"
   ]
  },
  {
   "cell_type": "code",
   "execution_count": 5,
   "metadata": {},
   "outputs": [
    {
     "data": {
      "text/plain": [
       "7197"
      ]
     },
     "execution_count": 5,
     "metadata": {},
     "output_type": "execute_result"
    }
   ],
   "source": [
    "# Convert dataframe to table \"appstore\" in database\n",
    "df_apps.to_sql(\"apps\", con, index=False)\n",
    "df_apps_desc.to_sql(\"desc\", con, index=False)"
   ]
  },
  {
   "cell_type": "code",
   "execution_count": 6,
   "metadata": {},
   "outputs": [],
   "source": [
    "# Load SQL module\n",
    "%load_ext sql"
   ]
  },
  {
   "cell_type": "code",
   "execution_count": 7,
   "metadata": {},
   "outputs": [],
   "source": [
    "# Connect to database\n",
    "%sql sqlite:///apps.db"
   ]
  },
  {
   "cell_type": "markdown",
   "metadata": {},
   "source": [
    "## Table Overview"
   ]
  },
  {
   "cell_type": "code",
   "execution_count": 8,
   "metadata": {},
   "outputs": [
    {
     "name": "stdout",
     "output_type": "stream",
     "text": [
      " * sqlite:///apps.db\n",
      "Done.\n"
     ]
    },
    {
     "data": {
      "text/html": [
       "<table>\n",
       "    <thead>\n",
       "        <tr>\n",
       "            <th>id</th>\n",
       "            <th>track_name</th>\n",
       "            <th>size_bytes</th>\n",
       "            <th>currency</th>\n",
       "            <th>price</th>\n",
       "            <th>rating_count_tot</th>\n",
       "            <th>rating_count_ver</th>\n",
       "            <th>user_rating</th>\n",
       "            <th>user_rating_ver</th>\n",
       "            <th>ver</th>\n",
       "            <th>cont_rating</th>\n",
       "            <th>prime_genre</th>\n",
       "            <th>sup_devices.num</th>\n",
       "            <th>ipadSc_urls.num</th>\n",
       "            <th>lang.num</th>\n",
       "            <th>vpp_lic</th>\n",
       "        </tr>\n",
       "    </thead>\n",
       "    <tbody>\n",
       "        <tr>\n",
       "            <td>281656475</td>\n",
       "            <td>PAC-MAN Premium</td>\n",
       "            <td>100788224</td>\n",
       "            <td>USD</td>\n",
       "            <td>3.99</td>\n",
       "            <td>21292</td>\n",
       "            <td>26</td>\n",
       "            <td>4.0</td>\n",
       "            <td>4.5</td>\n",
       "            <td>6.3.5</td>\n",
       "            <td>4+</td>\n",
       "            <td>Games</td>\n",
       "            <td>38</td>\n",
       "            <td>5</td>\n",
       "            <td>10</td>\n",
       "            <td>1</td>\n",
       "        </tr>\n",
       "        <tr>\n",
       "            <td>281796108</td>\n",
       "            <td>Evernote - stay organized</td>\n",
       "            <td>158578688</td>\n",
       "            <td>USD</td>\n",
       "            <td>0.0</td>\n",
       "            <td>161065</td>\n",
       "            <td>26</td>\n",
       "            <td>4.0</td>\n",
       "            <td>3.5</td>\n",
       "            <td>8.2.2</td>\n",
       "            <td>4+</td>\n",
       "            <td>Productivity</td>\n",
       "            <td>37</td>\n",
       "            <td>5</td>\n",
       "            <td>23</td>\n",
       "            <td>1</td>\n",
       "        </tr>\n",
       "        <tr>\n",
       "            <td>281940292</td>\n",
       "            <td>WeatherBug - Local Weather, Radar, Maps, Alerts</td>\n",
       "            <td>100524032</td>\n",
       "            <td>USD</td>\n",
       "            <td>0.0</td>\n",
       "            <td>188583</td>\n",
       "            <td>2822</td>\n",
       "            <td>3.5</td>\n",
       "            <td>4.5</td>\n",
       "            <td>5.0.0</td>\n",
       "            <td>4+</td>\n",
       "            <td>Weather</td>\n",
       "            <td>37</td>\n",
       "            <td>5</td>\n",
       "            <td>3</td>\n",
       "            <td>1</td>\n",
       "        </tr>\n",
       "        <tr>\n",
       "            <td>282614216</td>\n",
       "            <td>eBay: Best App to Buy, Sell, Save! Online Shopping</td>\n",
       "            <td>128512000</td>\n",
       "            <td>USD</td>\n",
       "            <td>0.0</td>\n",
       "            <td>262241</td>\n",
       "            <td>649</td>\n",
       "            <td>4.0</td>\n",
       "            <td>4.5</td>\n",
       "            <td>5.10.0</td>\n",
       "            <td>12+</td>\n",
       "            <td>Shopping</td>\n",
       "            <td>37</td>\n",
       "            <td>5</td>\n",
       "            <td>9</td>\n",
       "            <td>1</td>\n",
       "        </tr>\n",
       "        <tr>\n",
       "            <td>282935706</td>\n",
       "            <td>Bible</td>\n",
       "            <td>92774400</td>\n",
       "            <td>USD</td>\n",
       "            <td>0.0</td>\n",
       "            <td>985920</td>\n",
       "            <td>5320</td>\n",
       "            <td>4.5</td>\n",
       "            <td>5.0</td>\n",
       "            <td>7.5.1</td>\n",
       "            <td>4+</td>\n",
       "            <td>Reference</td>\n",
       "            <td>37</td>\n",
       "            <td>5</td>\n",
       "            <td>45</td>\n",
       "            <td>1</td>\n",
       "        </tr>\n",
       "    </tbody>\n",
       "</table>"
      ],
      "text/plain": [
       "[(281656475, 'PAC-MAN Premium', 100788224, 'USD', 3.99, 21292, 26, 4.0, 4.5, '6.3.5', '4+', 'Games', 38, 5, 10, 1),\n",
       " (281796108, 'Evernote - stay organized', 158578688, 'USD', 0.0, 161065, 26, 4.0, 3.5, '8.2.2', '4+', 'Productivity', 37, 5, 23, 1),\n",
       " (281940292, 'WeatherBug - Local Weather, Radar, Maps, Alerts', 100524032, 'USD', 0.0, 188583, 2822, 3.5, 4.5, '5.0.0', '4+', 'Weather', 37, 5, 3, 1),\n",
       " (282614216, 'eBay: Best App to Buy, Sell, Save! Online Shopping', 128512000, 'USD', 0.0, 262241, 649, 4.0, 4.5, '5.10.0', '12+', 'Shopping', 37, 5, 9, 1),\n",
       " (282935706, 'Bible', 92774400, 'USD', 0.0, 985920, 5320, 4.5, 5.0, '7.5.1', '4+', 'Reference', 37, 5, 45, 1)]"
      ]
     },
     "execution_count": 8,
     "metadata": {},
     "output_type": "execute_result"
    }
   ],
   "source": [
    "%%sql\n",
    "-- Quick overview of apps table\n",
    "SELECT *\n",
    "FROM apps\n",
    "LIMIT 5;"
   ]
  },
  {
   "cell_type": "code",
   "execution_count": 9,
   "metadata": {},
   "outputs": [
    {
     "name": "stdout",
     "output_type": "stream",
     "text": [
      " * sqlite:///apps.db\n",
      "Done.\n"
     ]
    },
    {
     "data": {
      "text/html": [
       "<table>\n",
       "    <thead>\n",
       "        <tr>\n",
       "            <th>id</th>\n",
       "            <th>track_name</th>\n",
       "            <th>size_bytes</th>\n",
       "            <th>app_desc</th>\n",
       "        </tr>\n",
       "    </thead>\n",
       "    <tbody>\n",
       "        <tr>\n",
       "            <td>281656475</td>\n",
       "            <td>PAC-MAN Premium</td>\n",
       "            <td>100788224</td>\n",
       "            <td>SAVE 20%, now only $3.99 for a limited time!<br><br>One of the most popular video games in arcade history!<br>2015 World Video Game Hall of Fame Inductee<br><br>Who can forget the countless hours and quarters spent outrunning pesky ghosts and chompin’ on dots? Now you can have the same arcade excitement on your mobile devices! <br>Guide PAC-MAN through the mazes with easy swipe controls, a MFi controller, or kick it old school with the onscreen joystick!<br>Eat all of the dots to advance to the next stage. Go for high scores and higher levels! Gain an extra life at 10.000 points! Gobble Power Pellets to weaken ghosts temporarily and eat them up before they change back. Avoid Blinky, the leader of the ghosts, and his fellow ghosts Pinky, Inky, and Clyde, or you will lose a life. It’s game over when you lose all your lives.<br><br>9 NEW MAZES Included!!!<br>The game includes 9 new mazes in addition to the pixel for pixel recreation of the classic original maze. Challenge your skill to beat them all! We are constantly updating the game with new maze packs that you can buy to complete your PAC-MAN collection.<br><br>HINTS and TIPS!!!<br>Insider pro-tips and hints are being made available for the first time in-game! Use these to help you become a PAC-MAN champion!<br><br>FEATURES:<br>• New tournaments<br>• New Visual Hints and Pro-tips<br>• New mazes for all new challenges<br>• Play an arcade perfect port of classic PAC-MAN<br>• Two different control modes<br>• Three game difficulties (including the original 1980 arcade game)<br>• Retina display support<br>• MFi controller support</td>\n",
       "        </tr>\n",
       "    </tbody>\n",
       "</table>"
      ],
      "text/plain": [
       "[(281656475, 'PAC-MAN Premium', 100788224, 'SAVE 20%, now only $3.99 for a limited time!\\n\\nOne of the most popular video games in arcade history!\\n2015 World Video Game Hall of Fame Inductee\\n ... (1258 characters truncated) ...  Two different control modes\\n• Three game difficulties (including the original 1980 arcade game)\\n• Retina display support\\n• MFi controller support')]"
      ]
     },
     "execution_count": 9,
     "metadata": {},
     "output_type": "execute_result"
    }
   ],
   "source": [
    "%%sql\n",
    "-- Quick overview of desc table\n",
    "SELECT *\n",
    "FROM desc\n",
    "LIMIT 1;"
   ]
  },
  {
   "cell_type": "markdown",
   "metadata": {},
   "source": [
    "The dataset's author states that the iTunes API was used to collect the data. This might explain why the app names are referred to as \"track_name\". Since the data is all about apps and not tracks, the column \"track_name\" will be renamed to \"app_name\" in both tables."
   ]
  },
  {
   "cell_type": "code",
   "execution_count": 10,
   "metadata": {},
   "outputs": [
    {
     "name": "stdout",
     "output_type": "stream",
     "text": [
      " * sqlite:///apps.db\n",
      "Done.\n"
     ]
    },
    {
     "data": {
      "text/plain": [
       "[]"
      ]
     },
     "execution_count": 10,
     "metadata": {},
     "output_type": "execute_result"
    }
   ],
   "source": [
    "%%sql\n",
    "-- Renaming \"track_name\" to \"app_name\" in table \"apps\"\n",
    "ALTER TABLE apps\n",
    "RENAME COLUMN track_name TO app_name"
   ]
  },
  {
   "cell_type": "code",
   "execution_count": 11,
   "metadata": {},
   "outputs": [
    {
     "name": "stdout",
     "output_type": "stream",
     "text": [
      " * sqlite:///apps.db\n",
      "Done.\n"
     ]
    },
    {
     "data": {
      "text/plain": [
       "[]"
      ]
     },
     "execution_count": 11,
     "metadata": {},
     "output_type": "execute_result"
    }
   ],
   "source": [
    "%%sql\n",
    "-- Renaming \"track_name\" to \"app_name\" in table \"desc\"\n",
    "ALTER TABLE desc\n",
    "RENAME COLUMN track_name TO app_name"
   ]
  },
  {
   "cell_type": "markdown",
   "metadata": {},
   "source": [
    "## Data Completeness"
   ]
  },
  {
   "cell_type": "markdown",
   "metadata": {},
   "source": [
    "### Unique and Matching IDs"
   ]
  },
  {
   "cell_type": "code",
   "execution_count": 12,
   "metadata": {},
   "outputs": [
    {
     "name": "stdout",
     "output_type": "stream",
     "text": [
      " * sqlite:///apps.db\n",
      "Done.\n"
     ]
    },
    {
     "data": {
      "text/html": [
       "<table>\n",
       "    <thead>\n",
       "        <tr>\n",
       "            <th>unique_ids_apps</th>\n",
       "        </tr>\n",
       "    </thead>\n",
       "    <tbody>\n",
       "        <tr>\n",
       "            <td>7197</td>\n",
       "        </tr>\n",
       "    </tbody>\n",
       "</table>"
      ],
      "text/plain": [
       "[(7197,)]"
      ]
     },
     "execution_count": 12,
     "metadata": {},
     "output_type": "execute_result"
    }
   ],
   "source": [
    "%%sql\n",
    "-- Check unique rows for table \"apps\"\n",
    "SELECT COUNT(DISTINCT id) AS unique_ids_apps\n",
    "FROM apps"
   ]
  },
  {
   "cell_type": "code",
   "execution_count": 13,
   "metadata": {},
   "outputs": [
    {
     "name": "stdout",
     "output_type": "stream",
     "text": [
      " * sqlite:///apps.db\n",
      "Done.\n"
     ]
    },
    {
     "data": {
      "text/html": [
       "<table>\n",
       "    <thead>\n",
       "        <tr>\n",
       "            <th>unique_ids_desc</th>\n",
       "        </tr>\n",
       "    </thead>\n",
       "    <tbody>\n",
       "        <tr>\n",
       "            <td>7197</td>\n",
       "        </tr>\n",
       "    </tbody>\n",
       "</table>"
      ],
      "text/plain": [
       "[(7197,)]"
      ]
     },
     "execution_count": 13,
     "metadata": {},
     "output_type": "execute_result"
    }
   ],
   "source": [
    "%%sql\n",
    "-- Check unique rows for table \"desc\"\n",
    "SELECT COUNT(DISTINCT id) AS unique_ids_desc\n",
    "FROM desc"
   ]
  },
  {
   "cell_type": "code",
   "execution_count": 14,
   "metadata": {},
   "outputs": [
    {
     "name": "stdout",
     "output_type": "stream",
     "text": [
      " * sqlite:///apps.db\n",
      "Done.\n"
     ]
    },
    {
     "data": {
      "text/html": [
       "<table>\n",
       "    <thead>\n",
       "        <tr>\n",
       "            <th>count_missing_ids</th>\n",
       "        </tr>\n",
       "    </thead>\n",
       "    <tbody>\n",
       "        <tr>\n",
       "            <td>0</td>\n",
       "        </tr>\n",
       "    </tbody>\n",
       "</table>"
      ],
      "text/plain": [
       "[(0,)]"
      ]
     },
     "execution_count": 14,
     "metadata": {},
     "output_type": "execute_result"
    }
   ],
   "source": [
    "%%sql\n",
    "-- Check IDs that don't appear in both tables\n",
    "SELECT COUNT(*) AS count_missing_ids\n",
    "FROM (\n",
    "    -- IDs from \"apps\" not in \"desc\"\n",
    "    SELECT apps.id\n",
    "    FROM apps\n",
    "    LEFT JOIN desc ON apps.id = desc.id\n",
    "    WHERE desc.id IS NULL\n",
    "\n",
    "    UNION ALL\n",
    "    \n",
    "    -- IDs from \"desc\" not in \"apps\"\n",
    "    SELECT desc.id\n",
    "    FROM desc\n",
    "    LEFT JOIN apps ON desc.id = apps.id\n",
    "    WHERE apps.id IS NULL\n",
    ")"
   ]
  },
  {
   "cell_type": "markdown",
   "metadata": {},
   "source": [
    "### Missing Values"
   ]
  },
  {
   "cell_type": "code",
   "execution_count": 15,
   "metadata": {},
   "outputs": [
    {
     "name": "stdout",
     "output_type": "stream",
     "text": [
      " * sqlite:///apps.db\n",
      "Done.\n"
     ]
    },
    {
     "data": {
      "text/html": [
       "<table>\n",
       "    <thead>\n",
       "        <tr>\n",
       "            <th>missing_values</th>\n",
       "        </tr>\n",
       "    </thead>\n",
       "    <tbody>\n",
       "        <tr>\n",
       "            <td>0</td>\n",
       "        </tr>\n",
       "    </tbody>\n",
       "</table>"
      ],
      "text/plain": [
       "[(0,)]"
      ]
     },
     "execution_count": 15,
     "metadata": {},
     "output_type": "execute_result"
    }
   ],
   "source": [
    "%%sql\n",
    "-- Check for missing values in relevant columns in \"apps\"\n",
    "SELECT COUNT(*) AS missing_values\n",
    "FROM apps\n",
    "WHERE\n",
    "    app_name IS NULL OR\n",
    "    rating_count_tot IS NULL OR\n",
    "    price IS NULL OR\n",
    "    user_rating IS NULL OR\n",
    "    prime_genre IS NULL"
   ]
  },
  {
   "cell_type": "code",
   "execution_count": 16,
   "metadata": {},
   "outputs": [
    {
     "name": "stdout",
     "output_type": "stream",
     "text": [
      " * sqlite:///apps.db\n",
      "Done.\n"
     ]
    },
    {
     "data": {
      "text/html": [
       "<table>\n",
       "    <thead>\n",
       "        <tr>\n",
       "            <th>missing_values</th>\n",
       "        </tr>\n",
       "    </thead>\n",
       "    <tbody>\n",
       "        <tr>\n",
       "            <td>0</td>\n",
       "        </tr>\n",
       "    </tbody>\n",
       "</table>"
      ],
      "text/plain": [
       "[(0,)]"
      ]
     },
     "execution_count": 16,
     "metadata": {},
     "output_type": "execute_result"
    }
   ],
   "source": [
    "%%sql\n",
    "-- Check for missing values in relevant columns in \"desc\"\n",
    "SELECT COUNT(*) AS missing_values\n",
    "FROM desc\n",
    "WHERE\n",
    "    app_name IS NULL OR\n",
    "    app_desc IS NULL"
   ]
  },
  {
   "cell_type": "markdown",
   "metadata": {},
   "source": [
    "All IDs from the \"apps\" table are contained in \"desc\" and vice versa. The dataset is ready for analysis."
   ]
  },
  {
   "cell_type": "markdown",
   "metadata": {},
   "source": [
    "## AppStore Analysis"
   ]
  },
  {
   "cell_type": "markdown",
   "metadata": {},
   "source": [
    "### App Genres"
   ]
  },
  {
   "cell_type": "code",
   "execution_count": 17,
   "metadata": {},
   "outputs": [
    {
     "name": "stdout",
     "output_type": "stream",
     "text": [
      " * sqlite:///apps.db\n",
      "Done.\n"
     ]
    },
    {
     "data": {
      "text/html": [
       "<table>\n",
       "    <thead>\n",
       "        <tr>\n",
       "            <th>prime_genre</th>\n",
       "            <th>count_apps</th>\n",
       "            <th>avg_rating</th>\n",
       "            <th>avg_rating_count</th>\n",
       "            <th>avg_price</th>\n",
       "        </tr>\n",
       "    </thead>\n",
       "    <tbody>\n",
       "        <tr>\n",
       "            <td>Games</td>\n",
       "            <td>3862</td>\n",
       "            <td>3.69</td>\n",
       "            <td>13692.0</td>\n",
       "            <td>1.43</td>\n",
       "        </tr>\n",
       "        <tr>\n",
       "            <td>Entertainment</td>\n",
       "            <td>535</td>\n",
       "            <td>3.25</td>\n",
       "            <td>7533.68</td>\n",
       "            <td>0.89</td>\n",
       "        </tr>\n",
       "        <tr>\n",
       "            <td>Education</td>\n",
       "            <td>453</td>\n",
       "            <td>3.38</td>\n",
       "            <td>2239.23</td>\n",
       "            <td>4.03</td>\n",
       "        </tr>\n",
       "        <tr>\n",
       "            <td>Photo &amp; Video</td>\n",
       "            <td>349</td>\n",
       "            <td>3.8</td>\n",
       "            <td>14352.28</td>\n",
       "            <td>1.47</td>\n",
       "        </tr>\n",
       "        <tr>\n",
       "            <td>Utilities</td>\n",
       "            <td>248</td>\n",
       "            <td>3.28</td>\n",
       "            <td>6863.82</td>\n",
       "            <td>1.65</td>\n",
       "        </tr>\n",
       "        <tr>\n",
       "            <td>Health &amp; Fitness</td>\n",
       "            <td>180</td>\n",
       "            <td>3.7</td>\n",
       "            <td>9913.17</td>\n",
       "            <td>1.92</td>\n",
       "        </tr>\n",
       "        <tr>\n",
       "            <td>Productivity</td>\n",
       "            <td>178</td>\n",
       "            <td>4.01</td>\n",
       "            <td>8051.33</td>\n",
       "            <td>4.33</td>\n",
       "        </tr>\n",
       "        <tr>\n",
       "            <td>Social Networking</td>\n",
       "            <td>167</td>\n",
       "            <td>2.99</td>\n",
       "            <td>45498.9</td>\n",
       "            <td>0.34</td>\n",
       "        </tr>\n",
       "        <tr>\n",
       "            <td>Lifestyle</td>\n",
       "            <td>144</td>\n",
       "            <td>2.81</td>\n",
       "            <td>6161.76</td>\n",
       "            <td>0.89</td>\n",
       "        </tr>\n",
       "        <tr>\n",
       "            <td>Music</td>\n",
       "            <td>138</td>\n",
       "            <td>3.98</td>\n",
       "            <td>28842.02</td>\n",
       "            <td>4.84</td>\n",
       "        </tr>\n",
       "        <tr>\n",
       "            <td>Shopping</td>\n",
       "            <td>122</td>\n",
       "            <td>3.54</td>\n",
       "            <td>18615.33</td>\n",
       "            <td>0.02</td>\n",
       "        </tr>\n",
       "        <tr>\n",
       "            <td>Sports</td>\n",
       "            <td>114</td>\n",
       "            <td>2.98</td>\n",
       "            <td>14026.93</td>\n",
       "            <td>0.95</td>\n",
       "        </tr>\n",
       "        <tr>\n",
       "            <td>Book</td>\n",
       "            <td>112</td>\n",
       "            <td>2.48</td>\n",
       "            <td>5125.44</td>\n",
       "            <td>1.79</td>\n",
       "        </tr>\n",
       "        <tr>\n",
       "            <td>Finance</td>\n",
       "            <td>104</td>\n",
       "            <td>2.43</td>\n",
       "            <td>11047.65</td>\n",
       "            <td>0.42</td>\n",
       "        </tr>\n",
       "        <tr>\n",
       "            <td>Travel</td>\n",
       "            <td>81</td>\n",
       "            <td>3.38</td>\n",
       "            <td>14129.44</td>\n",
       "            <td>1.12</td>\n",
       "        </tr>\n",
       "        <tr>\n",
       "            <td>News</td>\n",
       "            <td>75</td>\n",
       "            <td>2.98</td>\n",
       "            <td>13015.07</td>\n",
       "            <td>0.52</td>\n",
       "        </tr>\n",
       "        <tr>\n",
       "            <td>Weather</td>\n",
       "            <td>72</td>\n",
       "            <td>3.6</td>\n",
       "            <td>22181.03</td>\n",
       "            <td>1.61</td>\n",
       "        </tr>\n",
       "        <tr>\n",
       "            <td>Reference</td>\n",
       "            <td>64</td>\n",
       "            <td>3.45</td>\n",
       "            <td>22410.84</td>\n",
       "            <td>4.84</td>\n",
       "        </tr>\n",
       "        <tr>\n",
       "            <td>Food &amp; Drink</td>\n",
       "            <td>63</td>\n",
       "            <td>3.18</td>\n",
       "            <td>13938.62</td>\n",
       "            <td>1.55</td>\n",
       "        </tr>\n",
       "        <tr>\n",
       "            <td>Business</td>\n",
       "            <td>57</td>\n",
       "            <td>3.75</td>\n",
       "            <td>4788.09</td>\n",
       "            <td>5.12</td>\n",
       "        </tr>\n",
       "        <tr>\n",
       "            <td>Navigation</td>\n",
       "            <td>46</td>\n",
       "            <td>2.68</td>\n",
       "            <td>11853.96</td>\n",
       "            <td>4.12</td>\n",
       "        </tr>\n",
       "        <tr>\n",
       "            <td>Medical</td>\n",
       "            <td>23</td>\n",
       "            <td>3.37</td>\n",
       "            <td>592.78</td>\n",
       "            <td>8.78</td>\n",
       "        </tr>\n",
       "        <tr>\n",
       "            <td>Catalogs</td>\n",
       "            <td>10</td>\n",
       "            <td>2.1</td>\n",
       "            <td>1732.5</td>\n",
       "            <td>0.8</td>\n",
       "        </tr>\n",
       "    </tbody>\n",
       "</table>"
      ],
      "text/plain": [
       "[('Games', 3862, 3.69, 13692.0, 1.43),\n",
       " ('Entertainment', 535, 3.25, 7533.68, 0.89),\n",
       " ('Education', 453, 3.38, 2239.23, 4.03),\n",
       " ('Photo & Video', 349, 3.8, 14352.28, 1.47),\n",
       " ('Utilities', 248, 3.28, 6863.82, 1.65),\n",
       " ('Health & Fitness', 180, 3.7, 9913.17, 1.92),\n",
       " ('Productivity', 178, 4.01, 8051.33, 4.33),\n",
       " ('Social Networking', 167, 2.99, 45498.9, 0.34),\n",
       " ('Lifestyle', 144, 2.81, 6161.76, 0.89),\n",
       " ('Music', 138, 3.98, 28842.02, 4.84),\n",
       " ('Shopping', 122, 3.54, 18615.33, 0.02),\n",
       " ('Sports', 114, 2.98, 14026.93, 0.95),\n",
       " ('Book', 112, 2.48, 5125.44, 1.79),\n",
       " ('Finance', 104, 2.43, 11047.65, 0.42),\n",
       " ('Travel', 81, 3.38, 14129.44, 1.12),\n",
       " ('News', 75, 2.98, 13015.07, 0.52),\n",
       " ('Weather', 72, 3.6, 22181.03, 1.61),\n",
       " ('Reference', 64, 3.45, 22410.84, 4.84),\n",
       " ('Food & Drink', 63, 3.18, 13938.62, 1.55),\n",
       " ('Business', 57, 3.75, 4788.09, 5.12),\n",
       " ('Navigation', 46, 2.68, 11853.96, 4.12),\n",
       " ('Medical', 23, 3.37, 592.78, 8.78),\n",
       " ('Catalogs', 10, 2.1, 1732.5, 0.8)]"
      ]
     },
     "execution_count": 17,
     "metadata": {},
     "output_type": "execute_result"
    }
   ],
   "source": [
    "%%sql\n",
    "-- Group several measures of apps by genre\n",
    "SELECT\n",
    "    prime_genre,\n",
    "    COUNT(*) AS count_apps,\n",
    "    ROUND(AVG(user_rating), 2) AS avg_rating,\n",
    "    ROUND(AVG(rating_count_tot), 2) AS avg_rating_count,\n",
    "    ROUND(AVG(price), 2) AS avg_price\n",
    "FROM apps\n",
    "GROUP BY prime_genre\n",
    "ORDER BY count_apps DESC"
   ]
  },
  {
   "cell_type": "markdown",
   "metadata": {},
   "source": [
    "There are 23 different genres. More than half belong to the \"Games\" genre."
   ]
  },
  {
   "cell_type": "code",
   "execution_count": 18,
   "metadata": {},
   "outputs": [
    {
     "name": "stdout",
     "output_type": "stream",
     "text": [
      " * sqlite:///apps.db\n",
      "Done.\n"
     ]
    },
    {
     "data": {
      "text/html": [
       "<table>\n",
       "    <thead>\n",
       "        <tr>\n",
       "            <th>prime_genre</th>\n",
       "            <th>count_apps</th>\n",
       "            <th>avg_rating</th>\n",
       "            <th>avg_rating_count</th>\n",
       "            <th>avg_price</th>\n",
       "        </tr>\n",
       "    </thead>\n",
       "    <tbody>\n",
       "        <tr>\n",
       "            <td>Catalogs</td>\n",
       "            <td>10</td>\n",
       "            <td>2.1</td>\n",
       "            <td>1732.5</td>\n",
       "            <td>0.8</td>\n",
       "        </tr>\n",
       "        <tr>\n",
       "            <td>Finance</td>\n",
       "            <td>104</td>\n",
       "            <td>2.43</td>\n",
       "            <td>11047.65</td>\n",
       "            <td>0.42</td>\n",
       "        </tr>\n",
       "        <tr>\n",
       "            <td>Book</td>\n",
       "            <td>112</td>\n",
       "            <td>2.48</td>\n",
       "            <td>5125.44</td>\n",
       "            <td>1.79</td>\n",
       "        </tr>\n",
       "        <tr>\n",
       "            <td>Navigation</td>\n",
       "            <td>46</td>\n",
       "            <td>2.68</td>\n",
       "            <td>11853.96</td>\n",
       "            <td>4.12</td>\n",
       "        </tr>\n",
       "        <tr>\n",
       "            <td>Lifestyle</td>\n",
       "            <td>144</td>\n",
       "            <td>2.81</td>\n",
       "            <td>6161.76</td>\n",
       "            <td>0.89</td>\n",
       "        </tr>\n",
       "        <tr>\n",
       "            <td>News</td>\n",
       "            <td>75</td>\n",
       "            <td>2.98</td>\n",
       "            <td>13015.07</td>\n",
       "            <td>0.52</td>\n",
       "        </tr>\n",
       "        <tr>\n",
       "            <td>Sports</td>\n",
       "            <td>114</td>\n",
       "            <td>2.98</td>\n",
       "            <td>14026.93</td>\n",
       "            <td>0.95</td>\n",
       "        </tr>\n",
       "        <tr>\n",
       "            <td>Social Networking</td>\n",
       "            <td>167</td>\n",
       "            <td>2.99</td>\n",
       "            <td>45498.9</td>\n",
       "            <td>0.34</td>\n",
       "        </tr>\n",
       "        <tr>\n",
       "            <td>Food &amp; Drink</td>\n",
       "            <td>63</td>\n",
       "            <td>3.18</td>\n",
       "            <td>13938.62</td>\n",
       "            <td>1.55</td>\n",
       "        </tr>\n",
       "        <tr>\n",
       "            <td>Entertainment</td>\n",
       "            <td>535</td>\n",
       "            <td>3.25</td>\n",
       "            <td>7533.68</td>\n",
       "            <td>0.89</td>\n",
       "        </tr>\n",
       "        <tr>\n",
       "            <td>Utilities</td>\n",
       "            <td>248</td>\n",
       "            <td>3.28</td>\n",
       "            <td>6863.82</td>\n",
       "            <td>1.65</td>\n",
       "        </tr>\n",
       "        <tr>\n",
       "            <td>Medical</td>\n",
       "            <td>23</td>\n",
       "            <td>3.37</td>\n",
       "            <td>592.78</td>\n",
       "            <td>8.78</td>\n",
       "        </tr>\n",
       "        <tr>\n",
       "            <td>Education</td>\n",
       "            <td>453</td>\n",
       "            <td>3.38</td>\n",
       "            <td>2239.23</td>\n",
       "            <td>4.03</td>\n",
       "        </tr>\n",
       "        <tr>\n",
       "            <td>Travel</td>\n",
       "            <td>81</td>\n",
       "            <td>3.38</td>\n",
       "            <td>14129.44</td>\n",
       "            <td>1.12</td>\n",
       "        </tr>\n",
       "        <tr>\n",
       "            <td>Reference</td>\n",
       "            <td>64</td>\n",
       "            <td>3.45</td>\n",
       "            <td>22410.84</td>\n",
       "            <td>4.84</td>\n",
       "        </tr>\n",
       "        <tr>\n",
       "            <td>Shopping</td>\n",
       "            <td>122</td>\n",
       "            <td>3.54</td>\n",
       "            <td>18615.33</td>\n",
       "            <td>0.02</td>\n",
       "        </tr>\n",
       "        <tr>\n",
       "            <td>Weather</td>\n",
       "            <td>72</td>\n",
       "            <td>3.6</td>\n",
       "            <td>22181.03</td>\n",
       "            <td>1.61</td>\n",
       "        </tr>\n",
       "        <tr>\n",
       "            <td>Games</td>\n",
       "            <td>3862</td>\n",
       "            <td>3.69</td>\n",
       "            <td>13692.0</td>\n",
       "            <td>1.43</td>\n",
       "        </tr>\n",
       "        <tr>\n",
       "            <td>Health &amp; Fitness</td>\n",
       "            <td>180</td>\n",
       "            <td>3.7</td>\n",
       "            <td>9913.17</td>\n",
       "            <td>1.92</td>\n",
       "        </tr>\n",
       "        <tr>\n",
       "            <td>Business</td>\n",
       "            <td>57</td>\n",
       "            <td>3.75</td>\n",
       "            <td>4788.09</td>\n",
       "            <td>5.12</td>\n",
       "        </tr>\n",
       "        <tr>\n",
       "            <td>Photo &amp; Video</td>\n",
       "            <td>349</td>\n",
       "            <td>3.8</td>\n",
       "            <td>14352.28</td>\n",
       "            <td>1.47</td>\n",
       "        </tr>\n",
       "        <tr>\n",
       "            <td>Music</td>\n",
       "            <td>138</td>\n",
       "            <td>3.98</td>\n",
       "            <td>28842.02</td>\n",
       "            <td>4.84</td>\n",
       "        </tr>\n",
       "        <tr>\n",
       "            <td>Productivity</td>\n",
       "            <td>178</td>\n",
       "            <td>4.01</td>\n",
       "            <td>8051.33</td>\n",
       "            <td>4.33</td>\n",
       "        </tr>\n",
       "    </tbody>\n",
       "</table>"
      ],
      "text/plain": [
       "[('Catalogs', 10, 2.1, 1732.5, 0.8),\n",
       " ('Finance', 104, 2.43, 11047.65, 0.42),\n",
       " ('Book', 112, 2.48, 5125.44, 1.79),\n",
       " ('Navigation', 46, 2.68, 11853.96, 4.12),\n",
       " ('Lifestyle', 144, 2.81, 6161.76, 0.89),\n",
       " ('News', 75, 2.98, 13015.07, 0.52),\n",
       " ('Sports', 114, 2.98, 14026.93, 0.95),\n",
       " ('Social Networking', 167, 2.99, 45498.9, 0.34),\n",
       " ('Food & Drink', 63, 3.18, 13938.62, 1.55),\n",
       " ('Entertainment', 535, 3.25, 7533.68, 0.89),\n",
       " ('Utilities', 248, 3.28, 6863.82, 1.65),\n",
       " ('Medical', 23, 3.37, 592.78, 8.78),\n",
       " ('Education', 453, 3.38, 2239.23, 4.03),\n",
       " ('Travel', 81, 3.38, 14129.44, 1.12),\n",
       " ('Reference', 64, 3.45, 22410.84, 4.84),\n",
       " ('Shopping', 122, 3.54, 18615.33, 0.02),\n",
       " ('Weather', 72, 3.6, 22181.03, 1.61),\n",
       " ('Games', 3862, 3.69, 13692.0, 1.43),\n",
       " ('Health & Fitness', 180, 3.7, 9913.17, 1.92),\n",
       " ('Business', 57, 3.75, 4788.09, 5.12),\n",
       " ('Photo & Video', 349, 3.8, 14352.28, 1.47),\n",
       " ('Music', 138, 3.98, 28842.02, 4.84),\n",
       " ('Productivity', 178, 4.01, 8051.33, 4.33)]"
      ]
     },
     "execution_count": 18,
     "metadata": {},
     "output_type": "execute_result"
    }
   ],
   "source": [
    "%%sql\n",
    "-- Group several measures of apps by genre\n",
    "SELECT\n",
    "    prime_genre,\n",
    "    COUNT(*) AS count_apps,\n",
    "    ROUND(AVG(user_rating), 2) AS avg_rating,\n",
    "    ROUND(AVG(rating_count_tot), 2) AS avg_rating_count,\n",
    "    ROUND(AVG(price), 2) AS avg_price\n",
    "FROM apps\n",
    "GROUP BY prime_genre\n",
    "ORDER BY avg_rating ASC"
   ]
  },
  {
   "cell_type": "markdown",
   "metadata": {},
   "source": [
    "Sorting by the average rating shows that the \"Catalogs\" genre has the lowest average rating and also only a small selection with 10 different apps. So it might be worth developing a good app for this genre. Other promising genres are \"Finance\", \"Book\" and \"Navigation\"."
   ]
  },
  {
   "cell_type": "code",
   "execution_count": 20,
   "metadata": {},
   "outputs": [
    {
     "name": "stdout",
     "output_type": "stream",
     "text": [
      " * sqlite:///apps.db\n",
      "Done.\n"
     ]
    },
    {
     "data": {
      "text/html": [
       "<table>\n",
       "    <thead>\n",
       "        <tr>\n",
       "            <th>prime_genre</th>\n",
       "            <th>app_name</th>\n",
       "            <th>user_rating</th>\n",
       "            <th>rating_count_tot</th>\n",
       "        </tr>\n",
       "    </thead>\n",
       "    <tbody>\n",
       "        <tr>\n",
       "            <td>Book</td>\n",
       "            <td>Color Therapy Adult Coloring Book for Adults</td>\n",
       "            <td>5.0</td>\n",
       "            <td>84062</td>\n",
       "        </tr>\n",
       "        <tr>\n",
       "            <td>Book</td>\n",
       "            <td>喜马拉雅FM（听书社区）电台有声小说相声英语</td>\n",
       "            <td>5.0</td>\n",
       "            <td>2111</td>\n",
       "        </tr>\n",
       "        <tr>\n",
       "            <td>Book</td>\n",
       "            <td>快看漫画</td>\n",
       "            <td>5.0</td>\n",
       "            <td>1647</td>\n",
       "        </tr>\n",
       "        <tr>\n",
       "            <td>Catalogs</td>\n",
       "            <td>CPlus for Craigslist app - mobile classifieds</td>\n",
       "            <td>5.0</td>\n",
       "            <td>13345</td>\n",
       "        </tr>\n",
       "        <tr>\n",
       "            <td>Catalogs</td>\n",
       "            <td>My Movies Pro - Movie &amp; TV Collection Library</td>\n",
       "            <td>4.5</td>\n",
       "            <td>1309</td>\n",
       "        </tr>\n",
       "        <tr>\n",
       "            <td>Catalogs</td>\n",
       "            <td>DRAGONS MODS FREE for Minecraft PC Game Edition</td>\n",
       "            <td>4.0</td>\n",
       "            <td>2027</td>\n",
       "        </tr>\n",
       "        <tr>\n",
       "            <td>Finance</td>\n",
       "            <td>Credit Karma: Free Credit Scores, Reports &amp; Alerts</td>\n",
       "            <td>5.0</td>\n",
       "            <td>101679</td>\n",
       "        </tr>\n",
       "        <tr>\n",
       "            <td>Finance</td>\n",
       "            <td>家計簿マネーフォワード-自動連携で簡単 人気の家計簿</td>\n",
       "            <td>5.0</td>\n",
       "            <td>14</td>\n",
       "        </tr>\n",
       "        <tr>\n",
       "            <td>Finance</td>\n",
       "            <td>楽天カード</td>\n",
       "            <td>5.0</td>\n",
       "            <td>11</td>\n",
       "        </tr>\n",
       "        <tr>\n",
       "            <td>Navigation</td>\n",
       "            <td>Waze - GPS Navigation, Maps &amp; Real-time Traffic</td>\n",
       "            <td>4.5</td>\n",
       "            <td>345046</td>\n",
       "        </tr>\n",
       "        <tr>\n",
       "            <td>Navigation</td>\n",
       "            <td>Google Maps - Navigation &amp; Transit</td>\n",
       "            <td>4.5</td>\n",
       "            <td>154911</td>\n",
       "        </tr>\n",
       "        <tr>\n",
       "            <td>Navigation</td>\n",
       "            <td>Gaia GPS Classic</td>\n",
       "            <td>4.5</td>\n",
       "            <td>2429</td>\n",
       "        </tr>\n",
       "    </tbody>\n",
       "</table>"
      ],
      "text/plain": [
       "[('Book', 'Color Therapy Adult Coloring Book for Adults', 5.0, 84062),\n",
       " ('Book', '喜马拉雅FM（听书社区）电台有声小说相声英语', 5.0, 2111),\n",
       " ('Book', '快看漫画', 5.0, 1647),\n",
       " ('Catalogs', 'CPlus for Craigslist app - mobile classifieds', 5.0, 13345),\n",
       " ('Catalogs', 'My Movies Pro - Movie & TV Collection Library', 4.5, 1309),\n",
       " ('Catalogs', 'DRAGONS MODS FREE for Minecraft PC Game Edition', 4.0, 2027),\n",
       " ('Finance', 'Credit Karma: Free Credit Scores, Reports & Alerts', 5.0, 101679),\n",
       " ('Finance', '家計簿マネーフォワード-自動連携で簡単 人気の家計簿', 5.0, 14),\n",
       " ('Finance', '楽天カード', 5.0, 11),\n",
       " ('Navigation', 'Waze - GPS Navigation, Maps & Real-time Traffic', 4.5, 345046),\n",
       " ('Navigation', 'Google Maps - Navigation & Transit', 4.5, 154911),\n",
       " ('Navigation', 'Gaia GPS Classic', 4.5, 2429)]"
      ]
     },
     "execution_count": 20,
     "metadata": {},
     "output_type": "execute_result"
    }
   ],
   "source": [
    "%%sql\n",
    "-- List top 3 apps per promising genre that have more than 10 reviews\n",
    "SELECT\n",
    "    prime_genre,\n",
    "    app_name,\n",
    "    user_rating,\n",
    "    rating_count_tot\n",
    "FROM (\n",
    "      -- Create a subquery with genre, app name, ratings count, rating and rank\n",
    "      SELECT\n",
    "      prime_genre,\n",
    "      app_name,\n",
    "      rating_count_tot,\n",
    "      user_rating,\n",
    "      -- Calculate ranks for apps per genre\n",
    "      RANK() OVER(\n",
    "                  PARTITION BY prime_genre\n",
    "                  ORDER BY\n",
    "                      user_rating DESC,\n",
    "                      rating_count_tot DESC\n",
    "                      ) AS rank\n",
    "      FROM apps\n",
    "      WHERE\n",
    "          -- Only consider apps with more than 10 reviews\n",
    "          rating_count_tot > 10 AND\n",
    "          prime_genre IN (\n",
    "                          -- List 4 most promising genres\n",
    "                          SELECT prime_genre\n",
    "                          FROM apps\n",
    "                          GROUP BY prime_genre\n",
    "                          ORDER BY AVG(user_rating) ASC\n",
    "                          LIMIT 4\n",
    "                         )\n",
    "     ) AS subquery\n",
    "-- List top 3 per genre\n",
    "WHERE subquery.rank <= 3"
   ]
  },
  {
   "cell_type": "markdown",
   "metadata": {},
   "source": [
    "The above apps could serve as inspiration because they are highly rated in an  overall poorly rated genre. Some appear to be Asian and might be difficult to understand. If that is a problem, these apps should be filtered out."
   ]
  },
  {
   "cell_type": "markdown",
   "metadata": {},
   "source": [
    "### Free vs. Paid Apps"
   ]
  },
  {
   "cell_type": "code",
   "execution_count": 21,
   "metadata": {},
   "outputs": [
    {
     "name": "stdout",
     "output_type": "stream",
     "text": [
      " * sqlite:///apps.db\n",
      "Done.\n"
     ]
    },
    {
     "data": {
      "text/html": [
       "<table>\n",
       "    <thead>\n",
       "        <tr>\n",
       "            <th>Cost</th>\n",
       "            <th>count_apps</th>\n",
       "            <th>avg_rating_count</th>\n",
       "            <th>avg_rating</th>\n",
       "            <th>avg_price</th>\n",
       "        </tr>\n",
       "    </thead>\n",
       "    <tbody>\n",
       "        <tr>\n",
       "            <td>Free</td>\n",
       "            <td>4056</td>\n",
       "            <td>19749.8</td>\n",
       "            <td>3.38</td>\n",
       "            <td>0.0</td>\n",
       "        </tr>\n",
       "        <tr>\n",
       "            <td>Paid</td>\n",
       "            <td>3141</td>\n",
       "            <td>4038.54</td>\n",
       "            <td>3.72</td>\n",
       "            <td>3.96</td>\n",
       "        </tr>\n",
       "    </tbody>\n",
       "</table>"
      ],
      "text/plain": [
       "[('Free', 4056, 19749.8, 3.38, 0.0), ('Paid', 3141, 4038.54, 3.72, 3.96)]"
      ]
     },
     "execution_count": 21,
     "metadata": {},
     "output_type": "execute_result"
    }
   ],
   "source": [
    "%%sql\n",
    "-- Compare free and paid apps\n",
    "SELECT\n",
    "    CASE\n",
    "        WHEN price = 0 THEN \"Free\"\n",
    "        ELSE \"Paid\"\n",
    "    END AS Cost,\n",
    "    COUNT(price) AS count_apps,\n",
    "    ROUND(AVG(rating_count_tot), 2) AS avg_rating_count,\n",
    "    ROUND(AVG(user_rating), 2) AS avg_rating,\n",
    "    ROUND(AVG(price), 2) AS avg_price\n",
    "FROM apps\n",
    "GROUP BY Cost\n",
    "ORDER BY count_apps DESC"
   ]
  },
  {
   "cell_type": "code",
   "execution_count": 22,
   "metadata": {},
   "outputs": [
    {
     "name": "stdout",
     "output_type": "stream",
     "text": [
      "3.955297675899395\n"
     ]
    },
    {
     "data": {
      "text/html": [
       "<div>\n",
       "<style scoped>\n",
       "    .dataframe tbody tr th:only-of-type {\n",
       "        vertical-align: middle;\n",
       "    }\n",
       "\n",
       "    .dataframe tbody tr th {\n",
       "        vertical-align: top;\n",
       "    }\n",
       "\n",
       "    .dataframe thead th {\n",
       "        text-align: right;\n",
       "    }\n",
       "</style>\n",
       "<table border=\"1\" class=\"dataframe\">\n",
       "  <thead>\n",
       "    <tr style=\"text-align: right;\">\n",
       "      <th></th>\n",
       "      <th>user_rating</th>\n",
       "      <th>price</th>\n",
       "      <th>count_apps</th>\n",
       "    </tr>\n",
       "  </thead>\n",
       "  <tbody>\n",
       "    <tr>\n",
       "      <th>0</th>\n",
       "      <td>0.0</td>\n",
       "      <td>0.99</td>\n",
       "      <td>97</td>\n",
       "    </tr>\n",
       "    <tr>\n",
       "      <th>1</th>\n",
       "      <td>0.0</td>\n",
       "      <td>1.99</td>\n",
       "      <td>34</td>\n",
       "    </tr>\n",
       "    <tr>\n",
       "      <th>2</th>\n",
       "      <td>0.0</td>\n",
       "      <td>2.99</td>\n",
       "      <td>33</td>\n",
       "    </tr>\n",
       "    <tr>\n",
       "      <th>3</th>\n",
       "      <td>0.0</td>\n",
       "      <td>3.99</td>\n",
       "      <td>21</td>\n",
       "    </tr>\n",
       "    <tr>\n",
       "      <th>4</th>\n",
       "      <td>0.0</td>\n",
       "      <td>4.99</td>\n",
       "      <td>25</td>\n",
       "    </tr>\n",
       "  </tbody>\n",
       "</table>\n",
       "</div>"
      ],
      "text/plain": [
       "   user_rating  price  count_apps\n",
       "0          0.0   0.99          97\n",
       "1          0.0   1.99          34\n",
       "2          0.0   2.99          33\n",
       "3          0.0   3.99          21\n",
       "4          0.0   4.99          25"
      ]
     },
     "execution_count": 22,
     "metadata": {},
     "output_type": "execute_result"
    }
   ],
   "source": [
    "# Create dataframe for user_rating, price and count_apps\n",
    "query = \"\"\"\n",
    "    SELECT\n",
    "        user_rating,\n",
    "        price,\n",
    "        COUNT(*) AS count_apps\n",
    "    FROM apps\n",
    "    WHERE NOT price = 0\n",
    "    GROUP BY user_rating, price\n",
    "\"\"\"\n",
    "\n",
    "df_price_rating = pd.read_sql(query, con)\n",
    "avg_price = (df_price_rating['price'] * df_price_rating['count_apps']).sum() / df_price_rating['count_apps'].sum()\n",
    "print(avg_price)\n",
    "df_price_rating.head()"
   ]
  },
  {
   "cell_type": "code",
   "execution_count": 23,
   "metadata": {},
   "outputs": [
    {
     "data": {
      "image/png": "[encoded data removed]",
      "text/plain": [
       "<Figure size 1500x600 with 1 Axes>"
      ]
     },
     "metadata": {},
     "output_type": "display_data"
    }
   ],
   "source": [
    "# Plot user ratings and prices\n",
    "plt.figure(figsize=(15, 6))\n",
    "sns.scatterplot(x=\"price\", y=\"user_rating\", hue=\"count_apps\", size=\"count_apps\", sizes=(20, 400), data=df_price_rating)\n",
    "plt.axvline(x = avg_price, color = 'r', label = 'AVG Price')\n",
    "plt.xlim(0, 50)\n",
    "plt.xticks(np.arange(0, 51, 5))\n",
    "plt.grid(True)\n",
    "plt.legend()\n",
    "plt.title(\"User Ratings by Price\")\n",
    "plt.xlabel(\"Price\")\n",
    "plt.ylabel(\"User Rating\")\n",
    "plt.show()"
   ]
  },
  {
   "cell_type": "markdown",
   "metadata": {},
   "source": [
    "There are more free apps available which receive significantly more reviews on average, but the average rating is higher for paid apps. The price for an app might depend heavily on competing apps and the genre. In general, however, a price of less than 4 dollars should be aimed at in order not to be above average and thus deter potential customers. Apps priced below average are rated 4 or higher most often."
   ]
  },
  {
   "cell_type": "markdown",
   "metadata": {},
   "source": [
    "### Number of Supported Languages"
   ]
  },
  {
   "cell_type": "code",
   "execution_count": 24,
   "metadata": {},
   "outputs": [
    {
     "name": "stdout",
     "output_type": "stream",
     "text": [
      " * sqlite:///apps.db\n",
      "Done.\n"
     ]
    },
    {
     "data": {
      "text/html": [
       "<table>\n",
       "    <thead>\n",
       "        <tr>\n",
       "            <th>language_bin</th>\n",
       "            <th>count_apps</th>\n",
       "            <th>avg_rating</th>\n",
       "        </tr>\n",
       "    </thead>\n",
       "    <tbody>\n",
       "        <tr>\n",
       "            <td>0</td>\n",
       "            <td>41</td>\n",
       "            <td>1.89</td>\n",
       "        </tr>\n",
       "        <tr>\n",
       "            <td>1</td>\n",
       "            <td>3767</td>\n",
       "            <td>3.38</td>\n",
       "        </tr>\n",
       "        <tr>\n",
       "            <td>2-10</td>\n",
       "            <td>1980</td>\n",
       "            <td>3.46</td>\n",
       "        </tr>\n",
       "        <tr>\n",
       "            <td>11-20</td>\n",
       "            <td>1032</td>\n",
       "            <td>4.14</td>\n",
       "        </tr>\n",
       "        <tr>\n",
       "            <td>21-50</td>\n",
       "            <td>352</td>\n",
       "            <td>3.9</td>\n",
       "        </tr>\n",
       "        <tr>\n",
       "            <td>&gt;50</td>\n",
       "            <td>25</td>\n",
       "            <td>4.04</td>\n",
       "        </tr>\n",
       "    </tbody>\n",
       "</table>"
      ],
      "text/plain": [
       "[('0', 41, 1.89),\n",
       " ('1', 3767, 3.38),\n",
       " ('2-10', 1980, 3.46),\n",
       " ('11-20', 1032, 4.14),\n",
       " ('21-50', 352, 3.9),\n",
       " ('>50', 25, 4.04)]"
      ]
     },
     "execution_count": 24,
     "metadata": {},
     "output_type": "execute_result"
    }
   ],
   "source": [
    "%%sql\n",
    "-- Find out how many apps support a certain number of languages\n",
    "SELECT\n",
    "    CASE\n",
    "        WHEN \"lang.num\" = 0 THEN \"0\"\n",
    "        WHEN \"lang.num\" = 1 THEN \"1\"\n",
    "        WHEN \"lang.num\" BETWEEN 2 AND 10 THEN \"2-10\"\n",
    "        WHEN \"lang.num\" BETWEEN 11 AND 20 THEN \"11-20\"\n",
    "        WHEN \"lang.num\" BETWEEN 21 AND 50 THEN \"21-50\"\n",
    "        WHEN \"lang.num\" > 51 THEN \">50\"\n",
    "    END AS language_bin,\n",
    "    COUNT(*) AS count_apps,\n",
    "    ROUND(AVG(user_rating), 2) AS avg_rating\n",
    "FROM apps\n",
    "GROUP BY language_bin\n",
    "ORDER BY \"lang.num\""
   ]
  },
  {
   "cell_type": "markdown",
   "metadata": {},
   "source": [
    "41 apps have a value of zero for supported languages. This seems to be a lack of data quality, so the affected apps should be further investigated to evaluate the impact on the overall analysis. The avg_rating indicates that the affected apps are mostly not very popular."
   ]
  },
  {
   "cell_type": "code",
   "execution_count": 25,
   "metadata": {},
   "outputs": [
    {
     "name": "stdout",
     "output_type": "stream",
     "text": [
      " * sqlite:///apps.db\n",
      "Done.\n"
     ]
    },
    {
     "data": {
      "text/html": [
       "<table>\n",
       "    <thead>\n",
       "        <tr>\n",
       "            <th>prime_genre</th>\n",
       "            <th>count_apps</th>\n",
       "            <th>avg_price</th>\n",
       "            <th>avg_rating_count</th>\n",
       "            <th>avg_rating</th>\n",
       "        </tr>\n",
       "    </thead>\n",
       "    <tbody>\n",
       "        <tr>\n",
       "            <td>Games</td>\n",
       "            <td>30</td>\n",
       "            <td>0.6643333333333333</td>\n",
       "            <td>1877.1</td>\n",
       "            <td>2.05</td>\n",
       "        </tr>\n",
       "        <tr>\n",
       "            <td>Finance</td>\n",
       "            <td>2</td>\n",
       "            <td>0.0</td>\n",
       "            <td>0.0</td>\n",
       "            <td>0.0</td>\n",
       "        </tr>\n",
       "        <tr>\n",
       "            <td>Education</td>\n",
       "            <td>2</td>\n",
       "            <td>2.49</td>\n",
       "            <td>32.0</td>\n",
       "            <td>1.75</td>\n",
       "        </tr>\n",
       "        <tr>\n",
       "            <td>Weather</td>\n",
       "            <td>1</td>\n",
       "            <td>0.99</td>\n",
       "            <td>10.0</td>\n",
       "            <td>4.5</td>\n",
       "        </tr>\n",
       "        <tr>\n",
       "            <td>Social Networking</td>\n",
       "            <td>1</td>\n",
       "            <td>0.0</td>\n",
       "            <td>0.0</td>\n",
       "            <td>0.0</td>\n",
       "        </tr>\n",
       "        <tr>\n",
       "            <td>Photo &amp; Video</td>\n",
       "            <td>1</td>\n",
       "            <td>0.0</td>\n",
       "            <td>0.0</td>\n",
       "            <td>0.0</td>\n",
       "        </tr>\n",
       "        <tr>\n",
       "            <td>News</td>\n",
       "            <td>1</td>\n",
       "            <td>0.0</td>\n",
       "            <td>0.0</td>\n",
       "            <td>0.0</td>\n",
       "        </tr>\n",
       "        <tr>\n",
       "            <td>Music</td>\n",
       "            <td>1</td>\n",
       "            <td>0.0</td>\n",
       "            <td>355.0</td>\n",
       "            <td>3.0</td>\n",
       "        </tr>\n",
       "        <tr>\n",
       "            <td>Entertainment</td>\n",
       "            <td>1</td>\n",
       "            <td>5.99</td>\n",
       "            <td>2.0</td>\n",
       "            <td>5.0</td>\n",
       "        </tr>\n",
       "        <tr>\n",
       "            <td>Business</td>\n",
       "            <td>1</td>\n",
       "            <td>1.99</td>\n",
       "            <td>0.0</td>\n",
       "            <td>0.0</td>\n",
       "        </tr>\n",
       "    </tbody>\n",
       "</table>"
      ],
      "text/plain": [
       "[('Games', 30, 0.6643333333333333, 1877.1, 2.05),\n",
       " ('Finance', 2, 0.0, 0.0, 0.0),\n",
       " ('Education', 2, 2.49, 32.0, 1.75),\n",
       " ('Weather', 1, 0.99, 10.0, 4.5),\n",
       " ('Social Networking', 1, 0.0, 0.0, 0.0),\n",
       " ('Photo & Video', 1, 0.0, 0.0, 0.0),\n",
       " ('News', 1, 0.0, 0.0, 0.0),\n",
       " ('Music', 1, 0.0, 355.0, 3.0),\n",
       " ('Entertainment', 1, 5.99, 2.0, 5.0),\n",
       " ('Business', 1, 1.99, 0.0, 0.0)]"
      ]
     },
     "execution_count": 25,
     "metadata": {},
     "output_type": "execute_result"
    }
   ],
   "source": [
    "%%sql\n",
    "-- List counts and averages for relevant columns per genre for each app with 0 supported languages\n",
    "SELECT\n",
    "    prime_genre,\n",
    "    COUNT(*) AS count_apps,\n",
    "    AVG(price) AS avg_price,\n",
    "    AVG(rating_count_tot) AS avg_rating_count,\n",
    "    AVG(user_rating) AS avg_rating\n",
    "FROM apps\n",
    "WHERE \"lang.num\" = 0\n",
    "GROUP BY prime_genre\n",
    "ORDER BY count_apps DESC"
   ]
  },
  {
   "cell_type": "markdown",
   "metadata": {},
   "source": [
    "The clear majority of affected apps have the highest average rating and belong to the \"Games\" genre. For the further course of the analysis, it is therefore assumed that the results with regard to the \"games\" genre are not greatly distorted due to the already high number of games in the data set."
   ]
  },
  {
   "cell_type": "code",
   "execution_count": 26,
   "metadata": {},
   "outputs": [
    {
     "data": {
      "text/html": [
       "<div>\n",
       "<style scoped>\n",
       "    .dataframe tbody tr th:only-of-type {\n",
       "        vertical-align: middle;\n",
       "    }\n",
       "\n",
       "    .dataframe tbody tr th {\n",
       "        vertical-align: top;\n",
       "    }\n",
       "\n",
       "    .dataframe thead th {\n",
       "        text-align: right;\n",
       "    }\n",
       "</style>\n",
       "<table border=\"1\" class=\"dataframe\">\n",
       "  <thead>\n",
       "    <tr style=\"text-align: right;\">\n",
       "      <th></th>\n",
       "      <th>language_bin</th>\n",
       "      <th>avg_rating</th>\n",
       "    </tr>\n",
       "  </thead>\n",
       "  <tbody>\n",
       "    <tr>\n",
       "      <th>0</th>\n",
       "      <td>0</td>\n",
       "      <td>1.89</td>\n",
       "    </tr>\n",
       "    <tr>\n",
       "      <th>1</th>\n",
       "      <td>1</td>\n",
       "      <td>3.38</td>\n",
       "    </tr>\n",
       "    <tr>\n",
       "      <th>2</th>\n",
       "      <td>2-10</td>\n",
       "      <td>3.46</td>\n",
       "    </tr>\n",
       "    <tr>\n",
       "      <th>3</th>\n",
       "      <td>11-20</td>\n",
       "      <td>4.14</td>\n",
       "    </tr>\n",
       "    <tr>\n",
       "      <th>4</th>\n",
       "      <td>21-50</td>\n",
       "      <td>3.90</td>\n",
       "    </tr>\n",
       "  </tbody>\n",
       "</table>\n",
       "</div>"
      ],
      "text/plain": [
       "  language_bin  avg_rating\n",
       "0            0        1.89\n",
       "1            1        3.38\n",
       "2         2-10        3.46\n",
       "3        11-20        4.14\n",
       "4        21-50        3.90"
      ]
     },
     "execution_count": 26,
     "metadata": {},
     "output_type": "execute_result"
    }
   ],
   "source": [
    "# Create dataframe for avg_ratings per language_bin\n",
    "query = \"\"\"\n",
    "    SELECT\n",
    "        CASE\n",
    "            WHEN \"lang.num\" = 0 THEN \"0\"\n",
    "            WHEN \"lang.num\" = 1 THEN \"1\"\n",
    "            WHEN \"lang.num\" BETWEEN 2 AND 10 THEN \"2-10\"\n",
    "            WHEN \"lang.num\" BETWEEN 11 AND 20 THEN \"11-20\"\n",
    "            WHEN \"lang.num\" BETWEEN 21 AND 50 THEN \"21-50\"\n",
    "            WHEN \"lang.num\" > 51 THEN \">50\"\n",
    "        END AS language_bin,\n",
    "        ROUND(AVG(user_rating), 2) AS avg_rating\n",
    "    FROM apps\n",
    "    GROUP BY language_bin\n",
    "    ORDER BY \"lang.num\"\n",
    "\"\"\"\n",
    "\n",
    "df_lang_rating = pd.read_sql(query, con)\n",
    "df_lang_rating.head()"
   ]
  },
  {
   "cell_type": "code",
   "execution_count": 27,
   "metadata": {},
   "outputs": [
    {
     "data": {
      "image/png": "[encoded data removed]",
      "text/plain": [
       "<Figure size 640x480 with 1 Axes>"
      ]
     },
     "metadata": {},
     "output_type": "display_data"
    }
   ],
   "source": [
    "# Plot average ratings by language bin\n",
    "sns.barplot(x=\"language_bin\", y=\"avg_rating\", data=df_lang_rating)\n",
    "plt.xlabel(\"Language Bin\")\n",
    "plt.ylabel(\"Average Rating\")\n",
    "plt.title(\"Average Rating by Language Bin\")\n",
    "plt.show()"
   ]
  },
  {
   "cell_type": "markdown",
   "metadata": {},
   "source": [
    "In order to achieve higher ratings, it is not necessary to support more than 20 languages, but supporting <b>more than 10 languages</b> yields the best results in terms of ratings."
   ]
  },
  {
   "cell_type": "markdown",
   "metadata": {},
   "source": [
    "### Importance of Description Length"
   ]
  },
  {
   "cell_type": "code",
   "execution_count": 33,
   "metadata": {},
   "outputs": [
    {
     "name": "stdout",
     "output_type": "stream",
     "text": [
      " * sqlite:///apps.db\n",
      "Done.\n"
     ]
    },
    {
     "data": {
      "text/html": [
       "<table>\n",
       "    <thead>\n",
       "        <tr>\n",
       "            <th>Min</th>\n",
       "            <th>Max</th>\n",
       "            <th>Avg</th>\n",
       "        </tr>\n",
       "    </thead>\n",
       "    <tbody>\n",
       "        <tr>\n",
       "            <td>17</td>\n",
       "            <td>4000</td>\n",
       "            <td>1553.7141864665832</td>\n",
       "        </tr>\n",
       "    </tbody>\n",
       "</table>"
      ],
      "text/plain": [
       "[(17, 4000, 1553.7141864665832)]"
      ]
     },
     "execution_count": 33,
     "metadata": {},
     "output_type": "execute_result"
    }
   ],
   "source": [
    "%%sql\n",
    "-- Get minimum, maximum and average of description length in characters\n",
    "SELECT\n",
    "    MIN(LENGTH(app_desc)) AS Min,\n",
    "    MAX(LENGTH(app_desc)) AS Max,\n",
    "    AVG(LENGTH(app_desc)) AS Avg\n",
    "FROM desc"
   ]
  },
  {
   "cell_type": "markdown",
   "metadata": {},
   "source": [
    "With a maximum value of 4000 characters for app descriptions, all apps can be assigned to one of eight equally sized bins of 500."
   ]
  },
  {
   "cell_type": "code",
   "execution_count": 29,
   "metadata": {},
   "outputs": [
    {
     "name": "stdout",
     "output_type": "stream",
     "text": [
      " * sqlite:///apps.db\n",
      "Done.\n"
     ]
    },
    {
     "data": {
      "text/html": [
       "<table>\n",
       "    <thead>\n",
       "        <tr>\n",
       "            <th>desc_char_bin</th>\n",
       "            <th>avg_rating</th>\n",
       "        </tr>\n",
       "    </thead>\n",
       "    <tbody>\n",
       "        <tr>\n",
       "            <td>0-499</td>\n",
       "            <td>2.53</td>\n",
       "        </tr>\n",
       "        <tr>\n",
       "            <td>500-999</td>\n",
       "            <td>3.23</td>\n",
       "        </tr>\n",
       "        <tr>\n",
       "            <td>1000-1499</td>\n",
       "            <td>3.68</td>\n",
       "        </tr>\n",
       "        <tr>\n",
       "            <td>1500-1999</td>\n",
       "            <td>3.87</td>\n",
       "        </tr>\n",
       "        <tr>\n",
       "            <td>2000-2499</td>\n",
       "            <td>3.97</td>\n",
       "        </tr>\n",
       "        <tr>\n",
       "            <td>2500-2999</td>\n",
       "            <td>3.87</td>\n",
       "        </tr>\n",
       "        <tr>\n",
       "            <td>3000-3499</td>\n",
       "            <td>3.98</td>\n",
       "        </tr>\n",
       "        <tr>\n",
       "            <td>&gt;3499</td>\n",
       "            <td>4.01</td>\n",
       "        </tr>\n",
       "    </tbody>\n",
       "</table>"
      ],
      "text/plain": [
       "[('0-499', 2.53),\n",
       " ('500-999', 3.23),\n",
       " ('1000-1499', 3.68),\n",
       " ('1500-1999', 3.87),\n",
       " ('2000-2499', 3.97),\n",
       " ('2500-2999', 3.87),\n",
       " ('3000-3499', 3.98),\n",
       " ('>3499', 4.01)]"
      ]
     },
     "execution_count": 29,
     "metadata": {},
     "output_type": "execute_result"
    }
   ],
   "source": [
    "%%sql\n",
    "-- Show average rating grouped by description length bins\n",
    "SELECT\n",
    "    CASE\n",
    "        WHEN LENGTH(d.app_desc) BETWEEN 0 AND 499 THEN \"0-499\"\n",
    "        WHEN LENGTH(d.app_desc) BETWEEN 500 AND 999 THEN \"500-999\"\n",
    "        WHEN LENGTH(d.app_desc) BETWEEN 1000 AND 1499 THEN \"1000-1499\"\n",
    "        WHEN LENGTH(d.app_desc) BETWEEN 1500 AND 1999 THEN \"1500-1999\"\n",
    "        WHEN LENGTH(d.app_desc) BETWEEN 2000 AND 2499 THEN \"2000-2499\"\n",
    "        WHEN LENGTH(d.app_desc) BETWEEN 2500 AND 2999 THEN \"2500-2999\"\n",
    "        WHEN LENGTH(d.app_desc) BETWEEN 3000 AND 3499 THEN \"3000-3499\"\n",
    "        WHEN LENGTH(d.app_desc) > 3499 THEN \">3499\"\n",
    "    END AS desc_char_bin,\n",
    "    ROUND(AVG(a.user_rating), 2) AS avg_rating\n",
    "FROM apps a\n",
    "INNER JOIN desc d ON a.id = d.id\n",
    "GROUP BY desc_char_bin\n",
    "ORDER BY LENGTH(d.app_desc)"
   ]
  },
  {
   "cell_type": "markdown",
   "metadata": {},
   "source": [
    "There seems to be a positive correlation between the description length and the average rating. This could be further examined by plotting the description length of each individual app and the rating. "
   ]
  },
  {
   "cell_type": "code",
   "execution_count": 30,
   "metadata": {},
   "outputs": [
    {
     "data": {
      "text/html": [
       "<div>\n",
       "<style scoped>\n",
       "    .dataframe tbody tr th:only-of-type {\n",
       "        vertical-align: middle;\n",
       "    }\n",
       "\n",
       "    .dataframe tbody tr th {\n",
       "        vertical-align: top;\n",
       "    }\n",
       "\n",
       "    .dataframe thead th {\n",
       "        text-align: right;\n",
       "    }\n",
       "</style>\n",
       "<table border=\"1\" class=\"dataframe\">\n",
       "  <thead>\n",
       "    <tr style=\"text-align: right;\">\n",
       "      <th></th>\n",
       "      <th>description_characters</th>\n",
       "      <th>user_rating</th>\n",
       "    </tr>\n",
       "  </thead>\n",
       "  <tbody>\n",
       "    <tr>\n",
       "      <th>0</th>\n",
       "      <td>1533</td>\n",
       "      <td>4.0</td>\n",
       "    </tr>\n",
       "    <tr>\n",
       "      <th>1</th>\n",
       "      <td>3952</td>\n",
       "      <td>4.0</td>\n",
       "    </tr>\n",
       "    <tr>\n",
       "      <th>2</th>\n",
       "      <td>2090</td>\n",
       "      <td>3.5</td>\n",
       "    </tr>\n",
       "    <tr>\n",
       "      <th>3</th>\n",
       "      <td>3997</td>\n",
       "      <td>4.0</td>\n",
       "    </tr>\n",
       "    <tr>\n",
       "      <th>4</th>\n",
       "      <td>2998</td>\n",
       "      <td>4.5</td>\n",
       "    </tr>\n",
       "  </tbody>\n",
       "</table>\n",
       "</div>"
      ],
      "text/plain": [
       "   description_characters  user_rating\n",
       "0                    1533          4.0\n",
       "1                    3952          4.0\n",
       "2                    2090          3.5\n",
       "3                    3997          4.0\n",
       "4                    2998          4.5"
      ]
     },
     "execution_count": 30,
     "metadata": {},
     "output_type": "execute_result"
    }
   ],
   "source": [
    "# Create dataframe for description length and user rating\n",
    "query = \"\"\"\n",
    "    SELECT\n",
    "        LENGTH(d.app_desc) AS description_characters,\n",
    "        a.user_rating\n",
    "    FROM apps a\n",
    "    INNER JOIN desc d ON a.id = d.id\n",
    "\"\"\"\n",
    "\n",
    "df_desc_rating = pd.read_sql(query, con)\n",
    "df_desc_rating.head()"
   ]
  },
  {
   "cell_type": "code",
   "execution_count": 31,
   "metadata": {},
   "outputs": [
    {
     "data": {
      "text/html": [
       "<div>\n",
       "<style scoped>\n",
       "    .dataframe tbody tr th:only-of-type {\n",
       "        vertical-align: middle;\n",
       "    }\n",
       "\n",
       "    .dataframe tbody tr th {\n",
       "        vertical-align: top;\n",
       "    }\n",
       "\n",
       "    .dataframe thead th {\n",
       "        text-align: right;\n",
       "    }\n",
       "</style>\n",
       "<table border=\"1\" class=\"dataframe\">\n",
       "  <thead>\n",
       "    <tr style=\"text-align: right;\">\n",
       "      <th></th>\n",
       "      <th>description_characters</th>\n",
       "      <th>user_rating</th>\n",
       "    </tr>\n",
       "  </thead>\n",
       "  <tbody>\n",
       "    <tr>\n",
       "      <th>description_characters</th>\n",
       "      <td>1.000000</td>\n",
       "      <td>0.273644</td>\n",
       "    </tr>\n",
       "    <tr>\n",
       "      <th>user_rating</th>\n",
       "      <td>0.273644</td>\n",
       "      <td>1.000000</td>\n",
       "    </tr>\n",
       "  </tbody>\n",
       "</table>\n",
       "</div>"
      ],
      "text/plain": [
       "                        description_characters  user_rating\n",
       "description_characters                1.000000     0.273644\n",
       "user_rating                           0.273644     1.000000"
      ]
     },
     "execution_count": 31,
     "metadata": {},
     "output_type": "execute_result"
    }
   ],
   "source": [
    "# Calculate correlation\n",
    "df_desc_rating.corr()"
   ]
  },
  {
   "cell_type": "code",
   "execution_count": 32,
   "metadata": {},
   "outputs": [
    {
     "data": {
      "image/png": "[encoded data removed]",
      "text/plain": [
       "<Figure size 800x800 with 3 Axes>"
      ]
     },
     "metadata": {},
     "output_type": "display_data"
    }
   ],
   "source": [
    "# Plot description length and user rating\n",
    "sns.jointplot(kind=\"hist\", height=8, x=\"description_characters\", y=\"user_rating\", data=df_desc_rating)\n",
    "plt.xlabel('Description Length in Characters')\n",
    "plt.ylabel('User Rating')\n",
    "plt.show()"
   ]
  },
  {
   "cell_type": "markdown",
   "metadata": {},
   "source": [
    "Lots of apps with a very short description (<500 characters) have a rating of 0. However, there are also many apps with good ratings (4 or higher) that have short descriptions. There are fewer apps with descriptions longer than 2000 characters, but those tend to have an overall higher rating. Especially bad or mediocre ratings (1 to 3) become fewer or even non-existent with increasing description length while maintaining lots of good ratings. It is therefore <b>advisable to include a rather long description</b>."
   ]
  },
  {
   "cell_type": "markdown",
   "metadata": {},
   "source": [
    "## Insights and Recommendations"
   ]
  },
  {
   "cell_type": "markdown",
   "metadata": {},
   "source": [
    "### Genre\n",
    "It is recommended to develop an app in one of the following genres:\n",
    "- Catalogs\n",
    "- Finance\n",
    "- Book\n",
    "- Navigation\n",
    "\n",
    "These genres have the lowest average ratings which indicates that users are not happy with available apps in these genres."
   ]
  },
  {
   "cell_type": "markdown",
   "metadata": {},
   "source": [
    "### Price\n",
    "Paid apps are higher rated on average. It is recommended to set the price below the average of around 4 dollars. These apps are rated highest amongst the paid apps. A free app (or a demo version) can be used to attract more customers because free apps are rated nearly five times as often as paid apps."
   ]
  },
  {
   "cell_type": "markdown",
   "metadata": {},
   "source": [
    "### Language Support\n",
    "The app should support between 11 and 20 languages. Apps in these range tend to have the highest ratings."
   ]
  },
  {
   "cell_type": "markdown",
   "metadata": {},
   "source": [
    "### Description\n",
    "While short descriptions don't necessarily mean lower ratings, it is recommended to include a rather long description for the app. There are fewer apps with long descriptions, making it easier to stand out there. Longer descriptions tend to result in a higher rating."
   ]
  }
 ],
 "metadata": {
  "kernelspec": {
   "display_name": "base",
   "language": "python",
   "name": "python3"
  },
  "language_info": {
   "codemirror_mode": {
    "name": "ipython",
    "version": 3
   },
   "file_extension": ".py",
   "mimetype": "text/x-python",
   "name": "python",
   "nbconvert_exporter": "python",
   "pygments_lexer": "ipython3",
   "version": "3.10.9"
  },
  "orig_nbformat": 4
 },
 "nbformat": 4,
 "nbformat_minor": 2
}
