{
 "cells": [
  {
   "attachments": {},
   "cell_type": "markdown",
   "id": "380525be",
   "metadata": {},
   "source": [
    "## Webscraping Bundesliga"
   ]
  },
  {
   "attachments": {},
   "cell_type": "markdown",
   "id": "140482a7",
   "metadata": {},
   "source": [
    "The dataset from Kaggle had wrong match data for the seasons 2015/2016 to 2019/2020. This script scrapes the correct data for these seasons and exports them as an XLSX file. The new data will then replace the wrong data in the Excel source file for Tableau."
   ]
  },
  {
   "cell_type": "code",
   "execution_count": 19,
   "id": "d7b5ae5c",
   "metadata": {},
   "outputs": [],
   "source": [
    "import requests\n",
    "from bs4 import BeautifulSoup\n",
    "import pandas as pd"
   ]
  },
  {
   "cell_type": "code",
   "execution_count": 20,
   "id": "3c8230a0",
   "metadata": {},
   "outputs": [],
   "source": [
    "# Initialize lists to store the extracted data\n",
    "season = []\n",
    "matchday_nr = []\n",
    "home_teams = []\n",
    "away_teams = []\n",
    "goals_home = []\n",
    "goals_away = []"
   ]
  },
  {
   "cell_type": "code",
   "execution_count": 21,
   "id": "7a44eae9",
   "metadata": {},
   "outputs": [],
   "source": [
    "target_seasons = [2016, 2017, 2018, 2019, 2020]\n",
    "target_matchdays = list(range(1, 35))"
   ]
  },
  {
   "cell_type": "code",
   "execution_count": 22,
   "id": "754f386d",
   "metadata": {},
   "outputs": [],
   "source": [
    "# URL to scrape\n",
    "url_template = \"https://www.fussballdaten.de/bundesliga/\"\n",
    "\n",
    "# Loop throgh all target seasons and matchdays\n",
    "for season_ in target_seasons:\n",
    "    for matchday_ in target_matchdays:\n",
    "        url = url_template + str(season_) + \"/\" + str(matchday_) + \"/\"\n",
    "        \n",
    "        # Send a GET request to the URL\n",
    "        response = requests.get(url)\n",
    "\n",
    "        # Create a BeautifulSoup object from the response content\n",
    "        soup = BeautifulSoup(response.content, \"html.parser\")\n",
    "\n",
    "        # Find all elements with class=\"ergebnis\"\n",
    "        ergebnis_elements = soup.find_all(class_=\"ergebnis\")\n",
    "\n",
    "        # Extract the required information from each element\n",
    "        for element in ergebnis_elements:\n",
    "            # Extract HOME\n",
    "            title = element[\"title\"]\n",
    "            home_team = title.split(\"Spieldetails:\")[1].split(\"gegen\")[0].strip()\n",
    "            home_teams.append(home_team)\n",
    "\n",
    "            # Extract AWAY\n",
    "            away_team = title.split(\"gegen\")[1].split(\"(\")[0].strip()\n",
    "            away_teams.append(away_team)\n",
    "\n",
    "            # Extract GOALS_HOME and GOALS_AWAY\n",
    "            goals = element.find(\"span\").get_text().split(\":\")\n",
    "            goals_home.append(int(goals[0]))\n",
    "            goals_away.append(int(goals[1]))\n",
    "            \n",
    "            # Add season and matchday info from iterations\n",
    "            season.append(int(season_))\n",
    "            matchday_nr.append(int(matchday_))"
   ]
  },
  {
   "cell_type": "code",
   "execution_count": 23,
   "id": "71695519",
   "metadata": {},
   "outputs": [],
   "source": [
    "# Create a pandas DataFrame\n",
    "data = {\n",
    "    \"SEASON\": season,\n",
    "    \"MATCHDAY_NR\": matchday_nr,\n",
    "    \"HOME\": home_teams,\n",
    "    \"AWAY\": away_teams,\n",
    "    \"GOALS_HOME\": goals_home,\n",
    "    \"GOALS_AWAY\": goals_away\n",
    "}\n",
    "df = pd.DataFrame(data)"
   ]
  },
  {
   "cell_type": "code",
   "execution_count": 25,
   "id": "6e119482",
   "metadata": {},
   "outputs": [
    {
     "name": "stdout",
     "output_type": "stream",
     "text": [
      "<class 'pandas.core.frame.DataFrame'>\n",
      "RangeIndex: 1836 entries, 0 to 1835\n",
      "Data columns (total 6 columns):\n",
      " #   Column       Non-Null Count  Dtype \n",
      "---  ------       --------------  ----- \n",
      " 0   SEASON       1836 non-null   int64 \n",
      " 1   MATCHDAY_NR  1836 non-null   int64 \n",
      " 2   HOME         1836 non-null   object\n",
      " 3   AWAY         1836 non-null   object\n",
      " 4   GOALS_HOME   1836 non-null   int64 \n",
      " 5   GOALS_AWAY   1836 non-null   int64 \n",
      "dtypes: int64(4), object(2)\n",
      "memory usage: 86.2+ KB\n"
     ]
    }
   ],
   "source": [
    "df.info()"
   ]
  },
  {
   "cell_type": "code",
   "execution_count": 27,
   "id": "72fc97f5",
   "metadata": {},
   "outputs": [],
   "source": [
    "# Export as xlsx without index column\n",
    "df.to_excel(\"Correction.xlsx\", index=False)"
   ]
  }
 ],
 "metadata": {
  "kernelspec": {
   "display_name": "Python 3 (ipykernel)",
   "language": "python",
   "name": "python3"
  },
  "language_info": {
   "codemirror_mode": {
    "name": "ipython",
    "version": 3
   },
   "file_extension": ".py",
   "mimetype": "text/x-python",
   "name": "python",
   "nbconvert_exporter": "python",
   "pygments_lexer": "ipython3",
   "version": "3.10.9"
  }
 },
 "nbformat": 4,
 "nbformat_minor": 5
}
